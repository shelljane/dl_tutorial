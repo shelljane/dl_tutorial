{
 "cells": [
  {
   "attachments": {},
   "cell_type": "markdown",
   "metadata": {},
   "source": [
    "# MNIST Handwritten Digit Recognition"
   ]
  },
  {
   "attachments": {},
   "cell_type": "markdown",
   "metadata": {},
   "source": [
    "### Import Libraries\n",
    "- \"torch.nn\" for neural network layers (Conv2D, Linear, ... ...)\n",
    "- \"torch.nn.functional\" for basic functions (sigmoid, max_pool2d, ... ...)\n",
    "- \"torch.optim\" for optimizers (gradient descent)\n",
    "- \"torchvision\" for data preparation"
   ]
  },
  {
   "cell_type": "code",
   "execution_count": 34,
   "metadata": {},
   "outputs": [],
   "source": [
    "# Import libraries\n",
    "import os\n",
    "import torch\n",
    "import torch.nn as nn\n",
    "import torch.nn.functional as F\n",
    "import torch.optim as optim\n",
    "import torchvision\n",
    "import matplotlib.pyplot as plt\n",
    "from tqdm import tqdm"
   ]
  },
  {
   "attachments": {},
   "cell_type": "markdown",
   "metadata": {},
   "source": [
    "### Load Data\n",
    "- Utilize \"torchvision\" to load MNIST handwritten digit data"
   ]
  },
  {
   "cell_type": "code",
   "execution_count": 35,
   "metadata": {},
   "outputs": [],
   "source": [
    "# Load MNIST dataset\n",
    "data_path = \"data/\"\n",
    "if not os.path.exists(data_path): \n",
    "    os.mkdir(data_path)\n",
    "batch_size_train = 100 # Size of a batch of data for training\n",
    "batch_size_test = 100 # Size of a batch of data for testing\n",
    "train_loader = torch.utils.data.DataLoader(\n",
    "    torchvision.datasets.MNIST('data/', train=True, download=True,\n",
    "                               transform=torchvision.transforms.Compose([\n",
    "                                   torchvision.transforms.ToTensor(),\n",
    "                                   torchvision.transforms.Normalize((0.1307,), (0.3081,))\n",
    "                               ])),\n",
    "    batch_size=batch_size_train, shuffle=True)\n",
    "\n",
    "test_loader = torch.utils.data.DataLoader(\n",
    "    torchvision.datasets.MNIST('data/', train=False, download=True,\n",
    "                               transform=torchvision.transforms.Compose([\n",
    "                                   torchvision.transforms.ToTensor(),\n",
    "                                   torchvision.transforms.Normalize((0.1307,), (0.3081,))\n",
    "                               ])),\n",
    "    batch_size=batch_size_test, shuffle=True)"
   ]
  },
  {
   "attachments": {},
   "cell_type": "markdown",
   "metadata": {},
   "source": [
    "- Examples from MNIST"
   ]
  },
  {
   "cell_type": "code",
   "execution_count": 36,
   "metadata": {},
   "outputs": [
    {
     "data": {
      "image/png": "[encoded data removed]",
      "text/plain": [
       "<Figure size 640x480 with 6 Axes>"
      ]
     },
     "metadata": {},
     "output_type": "display_data"
    }
   ],
   "source": [
    "# Show some examples\n",
    "examples = enumerate(test_loader)\n",
    "batch_idx, (example_data, example_targets) = next(examples)\n",
    "\n",
    "for idx in range(6):\n",
    "    plt.subplot(2,3,idx+1)\n",
    "    plt.tight_layout()\n",
    "    plt.imshow(example_data[idx][0], cmap='gray', interpolation='none')\n",
    "    plt.title(\"Ground Truth: {}\".format(example_targets[idx]))\n",
    "    plt.xticks([])\n",
    "    plt.yticks([])\n",
    "plt.show()"
   ]
  },
  {
   "attachments": {},
   "cell_type": "markdown",
   "metadata": {},
   "source": [
    "### Define the model\n",
    "\n",
    "- conv1 $\\rightarrow$ pooling $\\rightarrow$ ReLU $\\rightarrow$ conv2 $\\rightarrow$ pooling $\\rightarrow$ ReLU $\\rightarrow$ fc1 $\\rightarrow$ ReLU $\\rightarrow$ fc2  "
   ]
  },
  {
   "cell_type": "code",
   "execution_count": 37,
   "metadata": {},
   "outputs": [],
   "source": [
    "# Define the model\n",
    "class Net(nn.Module):\n",
    "    def __init__(self):\n",
    "        super(Net, self).__init__()\n",
    "        self.conv1 = nn.Conv2d(1, 10, kernel_size=5)\n",
    "        self.conv2 = nn.Conv2d(10, 20, kernel_size=5)\n",
    "        self.fc1 = nn.Linear(320, 50)\n",
    "        self.fc2 = nn.Linear(50, 10)\n",
    "\n",
    "    def forward(self, x):\n",
    "        x = F.relu(F.max_pool2d(self.conv1(x), 2))\n",
    "        x = F.relu(F.max_pool2d(self.conv2(x), 2))\n",
    "        x = x.view(-1, 320) # flatten\n",
    "        x = F.relu(self.fc1(x))\n",
    "        x = self.fc2(x)\n",
    "        return x"
   ]
  },
  {
   "attachments": {},
   "cell_type": "markdown",
   "metadata": {},
   "source": [
    "### Instantiate the Model\n",
    "\n",
    "- *network* is the model\n",
    "- *optimizer* is for gradient descent\n",
    "- Gradients are derived automatically"
   ]
  },
  {
   "cell_type": "code",
   "execution_count": 38,
   "metadata": {},
   "outputs": [],
   "source": [
    "learning_rate = 0.01\n",
    "# Instantiate the model\n",
    "network = Net()\n",
    "# Instantiate the optimizer\n",
    "optimizer = optim.SGD(network.parameters(), lr=learning_rate)"
   ]
  },
  {
   "attachments": {},
   "cell_type": "markdown",
   "metadata": {},
   "source": [
    "\n",
    "### Training and Testing\n",
    "\n",
    "- Epoch: a pass of training of **the dataset**\n",
    "- Step: an iteration of gradient descent on **a batch of data**\n",
    "\n",
    "```python\n",
    "for epoch in range(n_epochs): \n",
    "    # Training\n",
    "    for step, (data, target) in enumerate(train_loader):\n",
    "        # A training step\n",
    "    # Testing\n",
    "    for step, (data, target) in enumerate(test_loader):\n",
    "        # A testing step\n",
    "```\n",
    "\n",
    "### A Training Step\n",
    "\n",
    "- *output* is the inferred results\n",
    "- *loss* is the loss value\n",
    "- *loss.backward()* computes the gradients\n",
    "- *optimizer.step()* do gradient descent\n",
    "\n",
    "```python\n",
    "        # Inference\n",
    "        output = network(data)\n",
    "        # Compute the loss\n",
    "        loss = F.cross_entropy(output, target)\n",
    "        # Gradient descent\n",
    "        optimizer.zero_grad()\n",
    "        loss.backward()\n",
    "        optimizer.step()\n",
    "```\n",
    "\n",
    "### A Testing Step\n",
    "\n",
    "- *F.cross_entropy* computes the loss\n",
    "- *pred* is the prediction (the class with the maximum probability)\n",
    "- *(pred == target).sum()* computes the accuracy\n",
    "\n",
    "```python\n",
    "        # Inference\n",
    "        output = network(data)\n",
    "        # Compute the loss\n",
    "        test_loss += F.cross_entropy(output, target).item()\n",
    "        # Get the prediction\n",
    "        pred = output.max(dim=1)[1]\n",
    "        # Count correct predictions\n",
    "        correct += (pred == target).sum()\n",
    "```"
   ]
  },
  {
   "cell_type": "code",
   "execution_count": 39,
   "metadata": {},
   "outputs": [
    {
     "name": "stderr",
     "output_type": "stream",
     "text": [
      "100%|██████████| 600/600 [00:17<00:00, 34.73it/s, loss=0.377]\n",
      "100%|██████████| 100/100 [00:02<00:00, 40.00it/s, accu=0.905, loss=0.377]\n"
     ]
    },
    {
     "name": "stdout",
     "output_type": "stream",
     "text": [
      "[Epoch 0]: loss=3.053067903857245e-05, accuracy=0.9053999781608582\n"
     ]
    },
    {
     "name": "stderr",
     "output_type": "stream",
     "text": [
      "100%|██████████| 600/600 [00:17<00:00, 33.76it/s, loss=0.109] \n",
      "100%|██████████| 100/100 [00:02<00:00, 41.54it/s, accu=0.951, loss=0.109]\n"
     ]
    },
    {
     "name": "stdout",
     "output_type": "stream",
     "text": [
      "[Epoch 1]: loss=2.1132782719706527e-05, accuracy=0.9510999917984009\n"
     ]
    },
    {
     "name": "stderr",
     "output_type": "stream",
     "text": [
      "100%|██████████| 600/600 [00:18<00:00, 33.18it/s, loss=0.0777]\n",
      "100%|██████████| 100/100 [00:02<00:00, 38.76it/s, accu=0.961, loss=0.0777]\n"
     ]
    },
    {
     "name": "stdout",
     "output_type": "stream",
     "text": [
      "[Epoch 2]: loss=5.594836872786197e-06, accuracy=0.9606999754905701\n"
     ]
    },
    {
     "name": "stderr",
     "output_type": "stream",
     "text": [
      "100%|██████████| 600/600 [00:17<00:00, 33.91it/s, loss=0.145] \n",
      "100%|██████████| 100/100 [00:02<00:00, 42.55it/s, accu=0.969, loss=0.145]\n"
     ]
    },
    {
     "name": "stdout",
     "output_type": "stream",
     "text": [
      "[Epoch 3]: loss=7.462659485776159e-06, accuracy=0.9686999917030334\n"
     ]
    },
    {
     "name": "stderr",
     "output_type": "stream",
     "text": [
      "100%|██████████| 600/600 [00:18<00:00, 32.04it/s, loss=0.121] \n",
      "100%|██████████| 100/100 [00:02<00:00, 36.95it/s, accu=0.975, loss=0.121]\n"
     ]
    },
    {
     "name": "stdout",
     "output_type": "stream",
     "text": [
      "[Epoch 4]: loss=1.4698523440803799e-05, accuracy=0.9746999740600586\n"
     ]
    },
    {
     "name": "stderr",
     "output_type": "stream",
     "text": [
      "100%|██████████| 600/600 [00:17<00:00, 33.81it/s, loss=0.122] \n",
      "100%|██████████| 100/100 [00:02<00:00, 42.53it/s, accu=0.977, loss=0.122]\n"
     ]
    },
    {
     "name": "stdout",
     "output_type": "stream",
     "text": [
      "[Epoch 5]: loss=5.903642612277747e-06, accuracy=0.9768999814987183\n"
     ]
    },
    {
     "name": "stderr",
     "output_type": "stream",
     "text": [
      "100%|██████████| 600/600 [00:17<00:00, 35.20it/s, loss=0.0588] \n",
      "100%|██████████| 100/100 [00:02<00:00, 43.95it/s, accu=0.98, loss=0.0588]\n"
     ]
    },
    {
     "name": "stdout",
     "output_type": "stream",
     "text": [
      "[Epoch 6]: loss=4.03867803011182e-06, accuracy=0.9800999760627747\n"
     ]
    },
    {
     "name": "stderr",
     "output_type": "stream",
     "text": [
      "100%|██████████| 600/600 [00:16<00:00, 35.31it/s, loss=0.0833] \n",
      "100%|██████████| 100/100 [00:02<00:00, 43.15it/s, accu=0.981, loss=0.0833]\n"
     ]
    },
    {
     "name": "stdout",
     "output_type": "stream",
     "text": [
      "[Epoch 7]: loss=2.6937958960783373e-06, accuracy=0.9814000129699707\n"
     ]
    },
    {
     "name": "stderr",
     "output_type": "stream",
     "text": [
      "100%|██████████| 600/600 [00:17<00:00, 35.12it/s, loss=0.0408] \n",
      "100%|██████████| 100/100 [00:02<00:00, 43.46it/s, accu=0.982, loss=0.0408]\n"
     ]
    },
    {
     "name": "stdout",
     "output_type": "stream",
     "text": [
      "[Epoch 8]: loss=4.852577212195942e-06, accuracy=0.9818999767303467\n"
     ]
    },
    {
     "name": "stderr",
     "output_type": "stream",
     "text": [
      "100%|██████████| 600/600 [00:17<00:00, 35.08it/s, loss=0.0264] \n",
      "100%|██████████| 100/100 [00:02<00:00, 42.79it/s, accu=0.983, loss=0.0264]"
     ]
    },
    {
     "name": "stdout",
     "output_type": "stream",
     "text": [
      "[Epoch 9]: loss=7.311228955848994e-06, accuracy=0.983299970626831\n"
     ]
    },
    {
     "name": "stderr",
     "output_type": "stream",
     "text": [
      "\n"
     ]
    }
   ],
   "source": [
    "test_losses = []\n",
    "accuracies = []\n",
    "n_epochs = 10\n",
    "for epoch in range(n_epochs): \n",
    "    # Training\n",
    "    network.train()\n",
    "    progress = tqdm(train_loader)\n",
    "    for step, (data, target) in enumerate(progress):\n",
    "        # Inference\n",
    "        output = network(data)\n",
    "        # Compute the loss\n",
    "        loss = F.cross_entropy(output, target)\n",
    "        # Gradient descent\n",
    "        optimizer.zero_grad()\n",
    "        loss.backward()\n",
    "        optimizer.step()\n",
    "        # Log the result\n",
    "        progress.set_postfix(loss=loss.item())\n",
    "    # Testing\n",
    "    test_loss = 0\n",
    "    accuracy = 0\n",
    "    correct = 0\n",
    "    count = 0\n",
    "    network.eval()\n",
    "    progress = tqdm(test_loader)\n",
    "    for step, (data, target) in enumerate(progress):\n",
    "        with torch.no_grad():\n",
    "            # Inference\n",
    "            output = network(data)\n",
    "            # Compute the loss\n",
    "            test_loss += F.cross_entropy(output, target).item()\n",
    "            # Get the prediction\n",
    "            pred = output.max(dim=1)[1]\n",
    "            # Count correct predictions\n",
    "            correct += (pred == target).sum()\n",
    "            count += target.shape[0]\n",
    "        # Log the result\n",
    "        progress.set_postfix(loss=loss.item(), accu=(correct/count).item())\n",
    "        test_loss /= len(test_loader.dataset)\n",
    "        accuracy = correct/count\n",
    "        test_losses.append(test_loss)\n",
    "        accuracies.append(accuracy)\n",
    "    print(f\"[Epoch {epoch}]: loss={test_loss}, accuracy={accuracy}\")"
   ]
  },
  {
   "cell_type": "code",
   "execution_count": 40,
   "metadata": {},
   "outputs": [
    {
     "data": {
      "text/plain": [
       "Dataset MNIST\n",
       "    Number of datapoints: 60000\n",
       "    Root location: data/\n",
       "    Split: Train"
      ]
     },
     "execution_count": 40,
     "metadata": {},
     "output_type": "execute_result"
    }
   ],
   "source": [
    "# Compare with traditional machine learning\n",
    "torchvision.datasets.MNIST('data/', download=True)"
   ]
  }
 ],
 "metadata": {
  "kernelspec": {
   "display_name": "dl_tutorial",
   "language": "python",
   "name": "python3"
  },
  "language_info": {
   "codemirror_mode": {
    "name": "ipython",
    "version": 3
   },
   "file_extension": ".py",
   "mimetype": "text/x-python",
   "name": "python",
   "nbconvert_exporter": "python",
   "pygments_lexer": "ipython3",
   "version": "3.9.16"
  },
  "orig_nbformat": 4
 },
 "nbformat": 4,
 "nbformat_minor": 2
}
