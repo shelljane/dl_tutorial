{
 "cells": [
  {
   "attachments": {},
   "cell_type": "markdown",
   "metadata": {},
   "source": [
    "# MNIST Handwritten Digit Recognition"
   ]
  },
  {
   "cell_type": "code",
   "execution_count": 25,
   "metadata": {},
   "outputs": [],
   "source": [
    "# Import libraries\n",
    "import os\n",
    "import torch\n",
    "import torch.nn as nn\n",
    "import torch.nn.functional as F\n",
    "import torch.optim as optim\n",
    "import torchvision\n",
    "import matplotlib.pyplot as plt\n",
    "from tqdm import tqdm"
   ]
  },
  {
   "cell_type": "code",
   "execution_count": 26,
   "metadata": {},
   "outputs": [],
   "source": [
    "# Load MNIST dataset\n",
    "data_path = \"data/\"\n",
    "if not os.path.exists(data_path): \n",
    "    os.mkdir(data_path)\n",
    "batch_size_train = 100\n",
    "batch_size_test = 100\n",
    "train_loader = torch.utils.data.DataLoader(\n",
    "    torchvision.datasets.MNIST('data/', train=True, download=True,\n",
    "                               transform=torchvision.transforms.Compose([\n",
    "                                   torchvision.transforms.ToTensor(),\n",
    "                                   torchvision.transforms.Normalize((0.1307,), (0.3081,))\n",
    "                               ])),\n",
    "    batch_size=batch_size_train, shuffle=True)\n",
    "\n",
    "test_loader = torch.utils.data.DataLoader(\n",
    "    torchvision.datasets.MNIST('data/', train=False, download=True,\n",
    "                               transform=torchvision.transforms.Compose([\n",
    "                                   torchvision.transforms.ToTensor(),\n",
    "                                   torchvision.transforms.Normalize((0.1307,), (0.3081,))\n",
    "                               ])),\n",
    "    batch_size=batch_size_test, shuffle=True)"
   ]
  },
  {
   "cell_type": "code",
   "execution_count": 27,
   "metadata": {},
   "outputs": [
    {
     "data": {
      "image/png": "[encoded data removed]",
      "text/plain": [
       "<Figure size 640x480 with 6 Axes>"
      ]
     },
     "metadata": {},
     "output_type": "display_data"
    }
   ],
   "source": [
    "# Show some examples\n",
    "examples = enumerate(test_loader)\n",
    "batch_idx, (example_data, example_targets) = next(examples)\n",
    "\n",
    "for idx in range(6):\n",
    "    plt.subplot(2,3,idx+1)\n",
    "    plt.tight_layout()\n",
    "    plt.imshow(example_data[idx][0], cmap='gray', interpolation='none')\n",
    "    plt.title(\"Ground Truth: {}\".format(example_targets[idx]))\n",
    "    plt.xticks([])\n",
    "    plt.yticks([])\n",
    "plt.show()"
   ]
  },
  {
   "cell_type": "code",
   "execution_count": 28,
   "metadata": {},
   "outputs": [],
   "source": [
    "# Define the model\n",
    "class Net(nn.Module):\n",
    "    def __init__(self):\n",
    "        super(Net, self).__init__()\n",
    "        self.conv1 = nn.Conv2d(1, 10, kernel_size=5)\n",
    "        self.conv2 = nn.Conv2d(10, 20, kernel_size=5)\n",
    "        self.conv2_drop = nn.Dropout2d()\n",
    "        self.fc1 = nn.Linear(320, 50)\n",
    "        self.fc2 = nn.Linear(50, 10)\n",
    "\n",
    "    def forward(self, x):\n",
    "        x = F.relu(F.max_pool2d(self.conv1(x), 2))\n",
    "        x = F.relu(F.max_pool2d(self.conv2_drop(self.conv2(x)), 2))\n",
    "        x = x.view(-1, 320)\n",
    "        x = F.relu(self.fc1(x))\n",
    "        x = F.dropout(x, training=self.training)\n",
    "        x = self.fc2(x)\n",
    "        return x"
   ]
  },
  {
   "cell_type": "code",
   "execution_count": 29,
   "metadata": {},
   "outputs": [],
   "source": [
    "learning_rate = 0.01\n",
    "momentum = 0.5\n",
    "# Instantiate the model\n",
    "network = Net()\n",
    "# Instantiate the optimizer\n",
    "optimizer = optim.SGD(network.parameters(), lr=learning_rate, momentum=momentum)"
   ]
  },
  {
   "cell_type": "code",
   "execution_count": 30,
   "metadata": {},
   "outputs": [
    {
     "name": "stderr",
     "output_type": "stream",
     "text": [
      "  1%|          | 4/600 [00:00<00:36, 16.29it/s, loss=2.31]"
     ]
    },
    {
     "name": "stderr",
     "output_type": "stream",
     "text": [
      "100%|██████████| 600/600 [00:33<00:00, 18.11it/s, loss=0.509]\n",
      "  0%|          | 0/100 [00:00<?, ?it/s]/home/szheng22/anaconda3/envs/dl_tutorial/lib/python3.9/site-packages/torch/nn/_reduction.py:42: UserWarning: size_average and reduce args will be deprecated, please use reduction='sum' instead.\n",
      "  warnings.warn(warning.format(ret))\n",
      "100%|██████████| 100/100 [00:04<00:00, 24.53it/s, accu=0.925, loss=0.509]\n"
     ]
    },
    {
     "name": "stdout",
     "output_type": "stream",
     "text": [
      "[Epoch 0]: loss=0.0025428796742990017, accuracy=0.9254999756813049\n"
     ]
    },
    {
     "name": "stderr",
     "output_type": "stream",
     "text": [
      "100%|██████████| 600/600 [00:31<00:00, 18.86it/s, loss=0.37] \n",
      "100%|██████████| 100/100 [00:03<00:00, 28.52it/s, accu=0.952, loss=0.37]\n"
     ]
    },
    {
     "name": "stdout",
     "output_type": "stream",
     "text": [
      "[Epoch 1]: loss=0.0015526885726952222, accuracy=0.9521999955177307\n"
     ]
    },
    {
     "name": "stderr",
     "output_type": "stream",
     "text": [
      "100%|██████████| 600/600 [00:33<00:00, 18.14it/s, loss=0.322]\n",
      "100%|██████████| 100/100 [00:03<00:00, 25.65it/s, accu=0.963, loss=0.322]\n"
     ]
    },
    {
     "name": "stdout",
     "output_type": "stream",
     "text": [
      "[Epoch 2]: loss=0.001780985578442875, accuracy=0.9629999995231628\n"
     ]
    },
    {
     "name": "stderr",
     "output_type": "stream",
     "text": [
      "100%|██████████| 600/600 [00:27<00:00, 22.09it/s, loss=0.327]\n",
      "100%|██████████| 100/100 [00:03<00:00, 27.45it/s, accu=0.972, loss=0.327]\n"
     ]
    },
    {
     "name": "stdout",
     "output_type": "stream",
     "text": [
      "[Epoch 3]: loss=0.00032414146451565816, accuracy=0.9718000292778015\n"
     ]
    },
    {
     "name": "stderr",
     "output_type": "stream",
     "text": [
      "100%|██████████| 600/600 [00:26<00:00, 22.45it/s, loss=0.136]\n",
      "100%|██████████| 100/100 [00:03<00:00, 26.69it/s, accu=0.974, loss=0.136]\n"
     ]
    },
    {
     "name": "stdout",
     "output_type": "stream",
     "text": [
      "[Epoch 4]: loss=0.0007022534436426089, accuracy=0.9735999703407288\n"
     ]
    },
    {
     "name": "stderr",
     "output_type": "stream",
     "text": [
      "100%|██████████| 600/600 [00:27<00:00, 22.17it/s, loss=0.304] \n",
      "100%|██████████| 100/100 [00:03<00:00, 28.19it/s, accu=0.975, loss=0.304]\n"
     ]
    },
    {
     "name": "stdout",
     "output_type": "stream",
     "text": [
      "[Epoch 5]: loss=0.0007710745772573037, accuracy=0.9753999710083008\n"
     ]
    },
    {
     "name": "stderr",
     "output_type": "stream",
     "text": [
      "100%|██████████| 600/600 [00:27<00:00, 21.99it/s, loss=0.168] \n",
      "100%|██████████| 100/100 [00:03<00:00, 27.95it/s, accu=0.979, loss=0.168]\n"
     ]
    },
    {
     "name": "stdout",
     "output_type": "stream",
     "text": [
      "[Epoch 6]: loss=0.000920989561577386, accuracy=0.978600025177002\n"
     ]
    },
    {
     "name": "stderr",
     "output_type": "stream",
     "text": [
      "100%|██████████| 600/600 [00:26<00:00, 22.64it/s, loss=0.182] \n",
      "100%|██████████| 100/100 [00:03<00:00, 28.42it/s, accu=0.979, loss=0.182]\n"
     ]
    },
    {
     "name": "stdout",
     "output_type": "stream",
     "text": [
      "[Epoch 7]: loss=0.0008105986518928903, accuracy=0.9793000221252441\n"
     ]
    },
    {
     "name": "stderr",
     "output_type": "stream",
     "text": [
      "100%|██████████| 600/600 [00:26<00:00, 22.61it/s, loss=0.0758]\n",
      "100%|██████████| 100/100 [00:03<00:00, 28.02it/s, accu=0.98, loss=0.0758]\n"
     ]
    },
    {
     "name": "stdout",
     "output_type": "stream",
     "text": [
      "[Epoch 8]: loss=0.00040631629829345563, accuracy=0.9804999828338623\n"
     ]
    },
    {
     "name": "stderr",
     "output_type": "stream",
     "text": [
      "100%|██████████| 600/600 [00:26<00:00, 22.83it/s, loss=0.136] \n",
      "100%|██████████| 100/100 [00:03<00:00, 27.35it/s, accu=0.982, loss=0.136]"
     ]
    },
    {
     "name": "stdout",
     "output_type": "stream",
     "text": [
      "[Epoch 9]: loss=0.0006461361334050178, accuracy=0.9815999865531921\n"
     ]
    },
    {
     "name": "stderr",
     "output_type": "stream",
     "text": [
      "\n"
     ]
    }
   ],
   "source": [
    "test_losses = []\n",
    "accuracies = []\n",
    "n_epochs = 10\n",
    "for epoch in range(n_epochs): \n",
    "    # Training\n",
    "    network.train()\n",
    "    progress = tqdm(train_loader)\n",
    "    for batch_idx, (data, target) in enumerate(progress):\n",
    "        # Inference\n",
    "        output = network(data)\n",
    "        # Compute the loss\n",
    "        loss = F.cross_entropy(output, target)\n",
    "        # Gradient descent\n",
    "        optimizer.zero_grad()\n",
    "        loss.backward()\n",
    "        optimizer.step()\n",
    "        # Log the result\n",
    "        progress.set_postfix(loss=loss.item())\n",
    "    # Testing\n",
    "    test_loss = 0\n",
    "    accuracy = 0\n",
    "    correct = 0\n",
    "    count = 0\n",
    "    network.eval()\n",
    "    progress = tqdm(test_loader)\n",
    "    for batch_idx, (data, target) in enumerate(progress):\n",
    "        with torch.no_grad():\n",
    "            # Inference\n",
    "            output = network(data)\n",
    "            # Compute the loss\n",
    "            test_loss += F.cross_entropy(output, target, size_average=False).item()\n",
    "            # Get the prediction\n",
    "            pred = output.data.max(1, keepdim=True)[1]\n",
    "            # Count correct predictions\n",
    "            correct += pred.eq(target.data.view_as(pred)).sum()\n",
    "            count += target.shape[0]\n",
    "        # Log the result\n",
    "        progress.set_postfix(loss=loss.item(), accu=(correct/count).item())\n",
    "        test_loss /= len(test_loader.dataset)\n",
    "        accuracy = correct/count\n",
    "        test_losses.append(test_loss)\n",
    "        accuracies.append(accuracy)\n",
    "    print(f\"[Epoch {epoch}]: loss={test_loss}, accuracy={accuracy}\")"
   ]
  }
 ],
 "metadata": {
  "kernelspec": {
   "display_name": "dl_tutorial",
   "language": "python",
   "name": "python3"
  },
  "language_info": {
   "codemirror_mode": {
    "name": "ipython",
    "version": 3
   },
   "file_extension": ".py",
   "mimetype": "text/x-python",
   "name": "python",
   "nbconvert_exporter": "python",
   "pygments_lexer": "ipython3",
   "version": "3.9.16"
  },
  "orig_nbformat": 4
 },
 "nbformat": 4,
 "nbformat_minor": 2
}
